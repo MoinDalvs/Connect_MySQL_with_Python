{
 "cells": [
  {
   "cell_type": "code",
   "execution_count": 2,
   "id": "e4889ed9",
   "metadata": {
    "ExecuteTime": {
     "end_time": "2022-11-15T16:53:55.450202Z",
     "start_time": "2022-11-15T16:53:53.447128Z"
    },
    "code_folding": []
   },
   "outputs": [],
   "source": [
    "# import libraries\n",
    "import mysql.connector\n",
    "from mysql.connector import Error\n",
    "import pandas as pd"
   ]
  },
  {
   "cell_type": "code",
   "execution_count": 3,
   "id": "29c3f672",
   "metadata": {
    "ExecuteTime": {
     "end_time": "2022-11-15T16:53:55.529197Z",
     "start_time": "2022-11-15T16:53:55.509202Z"
    }
   },
   "outputs": [],
   "source": [
    "hostname = 'localhost'\n",
    "username = 'root'\n",
    "password = 'Enter_your_password_here'\n",
    "dbname = 'mysql_python'"
   ]
  },
  {
   "cell_type": "code",
   "execution_count": null,
   "id": "3e29729c",
   "metadata": {
    "ExecuteTime": {
     "end_time": "2022-11-15T16:54:57.126543Z",
     "start_time": "2022-11-15T16:54:00.228829Z"
    },
    "code_folding": []
   },
   "outputs": [],
   "source": [
    "def create_server_connection(host_name, user_name, user_password):\n",
    "    connection = None\n",
    "    try:\n",
    "        connection = mysql.connector.connect( \n",
    "              host = host_name,\n",
    "              user = user_name,\n",
    "              password = user_password,\n",
    "              auth_plugin = 'mysql_native_password')\n",
    "        print('MySQL Server connection successful')\n",
    "    except Error as err:\n",
    "        print(f\"Error: '{err}'\")\n",
    "    return connection\n",
    "\n",
    "# Put our MySQL Terminal password\n",
    "\n",
    "pw = input('Type your User Password: ')\n",
    "\n",
    "connection = create_server_connection('localhost', 'root', pw)"
   ]
  },
  {
   "cell_type": "code",
   "execution_count": 13,
   "id": "d9645b58",
   "metadata": {
    "ExecuteTime": {
     "end_time": "2022-11-15T07:26:21.127631Z",
     "start_time": "2022-11-15T07:26:20.966610Z"
    }
   },
   "outputs": [
    {
     "name": "stdout",
     "output_type": "stream",
     "text": [
      "Database created successfully\n"
     ]
    }
   ],
   "source": [
    "# Create mysql_python\n",
    "\n",
    "def create_database( connection, query):\n",
    "    cursor = connection.cursor()\n",
    "    try:\n",
    "        cursor.execute(query)\n",
    "        print(\"Database created successfully\")\n",
    "    except Error as err:\n",
    "        print(f\"Error: '{err}'\")\n",
    "\n",
    "create_database_query = \"Create database mysql_python\"\n",
    "\n",
    "create_database( connection, create_database_query )"
   ]
  },
  {
   "cell_type": "code",
   "execution_count": 5,
   "id": "5adbbbdc",
   "metadata": {
    "ExecuteTime": {
     "end_time": "2022-11-15T16:55:03.396446Z",
     "start_time": "2022-11-15T16:55:03.374438Z"
    },
    "code_folding": []
   },
   "outputs": [],
   "source": [
    "# Connect to Database\n",
    "\n",
    "def create_db_connection(host_name, user_name, user_password, db_name):\n",
    "    connection = None\n",
    "    try:\n",
    "        connection = mysql.connector.connect( \n",
    "              host = host_name,\n",
    "              user = user_name,\n",
    "              database = db_name,\n",
    "              password = user_password,\n",
    "              auth_plugin = 'mysql_native_password')\n",
    "        print('MySQL Database connection successfull')\n",
    "    except Error as err:\n",
    "        print(f\"Error: '{err}'\")\n",
    "    return connection"
   ]
  },
  {
   "cell_type": "code",
   "execution_count": 6,
   "id": "2e7f3d61",
   "metadata": {
    "ExecuteTime": {
     "end_time": "2022-11-15T16:55:05.112875Z",
     "start_time": "2022-11-15T16:55:05.094867Z"
    }
   },
   "outputs": [],
   "source": [
    "# Execute SQL Queries\n",
    "\n",
    "def execute_query( connection, query):\n",
    "    cursor = connection.cursor()\n",
    "    try:\n",
    "        cursor.execute(query)\n",
    "        connection.commit()\n",
    "        print(\"Query executed successfully\")\n",
    "    except Error as err:\n",
    "        print(f\"Error: '{err}'\")"
   ]
  },
  {
   "cell_type": "code",
   "execution_count": 7,
   "id": "a46b1d35",
   "metadata": {
    "ExecuteTime": {
     "end_time": "2022-11-15T16:55:07.212868Z",
     "start_time": "2022-11-15T16:55:07.197887Z"
    }
   },
   "outputs": [],
   "source": [
    "create_orders_table = \"\"\"\n",
    "create table orders\n",
    "    (\n",
    "     order_id int primary key auto_increment,\n",
    "     customer_name varchar(30) not null,\n",
    "     product_name varchar(20) not null,\n",
    "     date_ordered date,\n",
    "     quantity int,\n",
    "     unit_price float,\n",
    "     phone_number varchar(20)\n",
    "     );\n",
    "\"\"\"\n",
    "\n",
    "alter_table_orders = \"\"\"\n",
    "alter table orders\n",
    "    auto_increment = 101;\"\"\""
   ]
  },
  {
   "cell_type": "code",
   "execution_count": 9,
   "id": "736ee7fc",
   "metadata": {
    "ExecuteTime": {
     "end_time": "2022-11-15T16:55:24.506191Z",
     "start_time": "2022-11-15T16:55:24.469207Z"
    }
   },
   "outputs": [
    {
     "name": "stdout",
     "output_type": "stream",
     "text": [
      "MySQL Database connection successfull\n"
     ]
    }
   ],
   "source": [
    "# connect to the database\n",
    "connection = create_db_connection( hostname, username, password, dbname)"
   ]
  },
  {
   "cell_type": "code",
   "execution_count": null,
   "id": "1babdd2d",
   "metadata": {},
   "outputs": [],
   "source": [
    "execute_query( connection, create_orders_table)"
   ]
  },
  {
   "cell_type": "code",
   "execution_count": 40,
   "id": "b2700405",
   "metadata": {
    "ExecuteTime": {
     "end_time": "2022-11-15T07:49:19.937428Z",
     "start_time": "2022-11-15T07:49:19.887338Z"
    }
   },
   "outputs": [
    {
     "name": "stdout",
     "output_type": "stream",
     "text": [
      "Query executed successfully\n"
     ]
    }
   ],
   "source": [
    "#execute_query( connection, 'drop table orders')"
   ]
  },
  {
   "cell_type": "code",
   "execution_count": 43,
   "id": "e7282204",
   "metadata": {
    "ExecuteTime": {
     "end_time": "2022-11-15T07:49:34.288280Z",
     "start_time": "2022-11-15T07:49:34.207615Z"
    }
   },
   "outputs": [
    {
     "name": "stdout",
     "output_type": "stream",
     "text": [
      "Query executed successfully\n"
     ]
    }
   ],
   "source": [
    "execute_query( connection, alter_table_orders)"
   ]
  },
  {
   "cell_type": "code",
   "execution_count": 13,
   "id": "3982862a",
   "metadata": {
    "ExecuteTime": {
     "end_time": "2022-11-15T16:56:41.104715Z",
     "start_time": "2022-11-15T16:56:41.085715Z"
    }
   },
   "outputs": [],
   "source": [
    "# Insert data\n",
    "\n",
    "data_orders = \"\"\"\n",
    "Insert into orders ( customer_name , product_name, date_ordered, quantity, unit_price, phone_number )\n",
    "            Values (        'Steve',     'Laptop', '2018-06-12',        2,        800, '6293730802' ),\n",
    "                   (         'Josh',      'Books', '2019-02-10',       10,         12, '8367489124' ),\n",
    "                   (        'Stacy',   'Trousers', '2019-12-25',        5,         50, '8976123645' ),\n",
    "                   (        'Nancy',    'T-shirt', '2018-07-14',        7,         30, '7368145099' ),\n",
    "                   (        'Maria', 'Headphones', '2019-05-30',        6,         48, '8865316698' ),\n",
    "                   (        'Danny',   'Smart TV', '2018-08-20',       10,        300, '7720130449' );\"\"\""
   ]
  },
  {
   "cell_type": "code",
   "execution_count": 14,
   "id": "7706ec95",
   "metadata": {
    "ExecuteTime": {
     "end_time": "2022-11-15T16:56:41.686716Z",
     "start_time": "2022-11-15T16:56:41.646709Z"
    }
   },
   "outputs": [
    {
     "name": "stdout",
     "output_type": "stream",
     "text": [
      "Query executed successfully\n"
     ]
    }
   ],
   "source": [
    "execute_query( connection, data_orders)"
   ]
  },
  {
   "cell_type": "code",
   "execution_count": 15,
   "id": "2af75a27",
   "metadata": {
    "ExecuteTime": {
     "end_time": "2022-11-15T16:59:12.844560Z",
     "start_time": "2022-11-15T16:59:12.832563Z"
    }
   },
   "outputs": [],
   "source": [
    "def read_query( connection, query):\n",
    "    cursor = connection.cursor()\n",
    "    result = None\n",
    "    try:\n",
    "        cursor.execute(query)\n",
    "        result = cursor.fetchall()\n",
    "        return result\n",
    "    except err:\n",
    "        print(f\"Error: '{err}'\")"
   ]
  },
  {
   "cell_type": "code",
   "execution_count": 16,
   "id": "414917e5",
   "metadata": {
    "ExecuteTime": {
     "end_time": "2022-11-15T17:00:22.076101Z",
     "start_time": "2022-11-15T17:00:22.057099Z"
    }
   },
   "outputs": [],
   "source": [
    "# Using the select statment\n",
    "q1 = \"\"\"\n",
    "select *\n",
    "    from orders;\"\"\""
   ]
  },
  {
   "cell_type": "code",
   "execution_count": 17,
   "id": "ca6850a2",
   "metadata": {
    "ExecuteTime": {
     "end_time": "2022-11-15T17:01:36.716202Z",
     "start_time": "2022-11-15T17:01:36.702205Z"
    }
   },
   "outputs": [
    {
     "name": "stdout",
     "output_type": "stream",
     "text": [
      "(101, 'Steve', 'Laptop', datetime.date(2018, 6, 12), 2, 800.0, '6293730802')\n",
      "(102, 'Josh', 'Books', datetime.date(2019, 2, 10), 10, 12.0, '8367489124')\n",
      "(103, 'Stacy', 'Trousers', datetime.date(2019, 12, 25), 5, 50.0, '8976123645')\n",
      "(104, 'Nancy', 'T-shirt', datetime.date(2018, 7, 14), 7, 30.0, '7368145099')\n",
      "(105, 'Maria', 'Headphones', datetime.date(2019, 5, 30), 6, 48.0, '8865316698')\n",
      "(106, 'Danny', 'Smart TV', datetime.date(2018, 8, 20), 10, 300.0, '7720130449')\n"
     ]
    }
   ],
   "source": [
    "results = read_query( connection, q1)\n",
    "for result in results:\n",
    "    print(result)"
   ]
  },
  {
   "cell_type": "code",
   "execution_count": 20,
   "id": "007b7b17",
   "metadata": {
    "ExecuteTime": {
     "end_time": "2022-11-15T17:03:40.665718Z",
     "start_time": "2022-11-15T17:03:40.645721Z"
    }
   },
   "outputs": [
    {
     "name": "stdout",
     "output_type": "stream",
     "text": [
      "('Steve', '6293730802')\n",
      "('Josh', '8367489124')\n",
      "('Stacy', '8976123645')\n",
      "('Nancy', '7368145099')\n",
      "('Maria', '8865316698')\n",
      "('Danny', '7720130449')\n"
     ]
    }
   ],
   "source": [
    "# Using the select statment\n",
    "q1 = \"\"\"\n",
    "select customer_name,\n",
    "       phone_number\n",
    "    from orders;\"\"\"\n",
    "\n",
    "results = read_query( connection, q1)\n",
    "for result in results:\n",
    "    print(result)"
   ]
  },
  {
   "cell_type": "code",
   "execution_count": 21,
   "id": "9551ccba",
   "metadata": {
    "ExecuteTime": {
     "end_time": "2022-11-15T17:03:51.250359Z",
     "start_time": "2022-11-15T17:03:51.240355Z"
    }
   },
   "outputs": [
    {
     "name": "stdout",
     "output_type": "stream",
     "text": [
      "('Steve', 2018, '6293730802')\n",
      "('Josh', 2019, '8367489124')\n",
      "('Stacy', 2019, '8976123645')\n",
      "('Nancy', 2018, '7368145099')\n",
      "('Maria', 2019, '8865316698')\n",
      "('Danny', 2018, '7720130449')\n"
     ]
    }
   ],
   "source": [
    "# Using the select statment\n",
    "q1 = \"\"\"\n",
    "select customer_name,\n",
    "       year(date_ordered),\n",
    "       phone_number\n",
    "    from orders;\"\"\"\n",
    "\n",
    "results = read_query( connection, q1)\n",
    "for result in results:\n",
    "    print(result)"
   ]
  },
  {
   "cell_type": "code",
   "execution_count": 22,
   "id": "daade9a7",
   "metadata": {
    "ExecuteTime": {
     "end_time": "2022-11-15T17:09:12.016924Z",
     "start_time": "2022-11-15T17:09:12.007907Z"
    }
   },
   "outputs": [
    {
     "name": "stdout",
     "output_type": "stream",
     "text": [
      "(101, 'Steve', 'Laptop', datetime.date(2018, 6, 12), 2, 800.0, '6293730802')\n",
      "(102, 'Josh', 'Books', datetime.date(2019, 2, 10), 10, 12.0, '8367489124')\n",
      "(103, 'Stacy', 'Trousers', datetime.date(2019, 12, 25), 5, 50.0, '8976123645')\n",
      "(104, 'Nancy', 'T-shirt', datetime.date(2018, 7, 14), 7, 30.0, '7368145099')\n",
      "(105, 'Maria', 'Headphones', datetime.date(2019, 5, 30), 6, 48.0, '8865316698')\n",
      "(106, 'Danny', 'Smart TV', datetime.date(2018, 8, 20), 10, 300.0, '7720130449')\n"
     ]
    }
   ],
   "source": [
    "# Using the select statment\n",
    "q1 = \"\"\"\n",
    "select *\n",
    "    from orders;\"\"\"\n",
    "\n",
    "results = read_query( connection, q1)\n",
    "for result in results:\n",
    "    print(result)"
   ]
  },
  {
   "cell_type": "code",
   "execution_count": 25,
   "id": "04fee77a",
   "metadata": {
    "ExecuteTime": {
     "end_time": "2022-11-15T17:12:04.639121Z",
     "start_time": "2022-11-15T17:12:04.479789Z"
    }
   },
   "outputs": [
    {
     "data": {
      "text/html": [
       "<div>\n",
       "<style scoped>\n",
       "    .dataframe tbody tr th:only-of-type {\n",
       "        vertical-align: middle;\n",
       "    }\n",
       "\n",
       "    .dataframe tbody tr th {\n",
       "        vertical-align: top;\n",
       "    }\n",
       "\n",
       "    .dataframe thead th {\n",
       "        text-align: right;\n",
       "    }\n",
       "</style>\n",
       "<table border=\"1\" class=\"dataframe\">\n",
       "  <thead>\n",
       "    <tr style=\"text-align: right;\">\n",
       "      <th></th>\n",
       "      <th>order_id</th>\n",
       "      <th>customer_name</th>\n",
       "      <th>product_name</th>\n",
       "      <th>date_ordered</th>\n",
       "      <th>quantity</th>\n",
       "      <th>unit_price</th>\n",
       "      <th>phone_number</th>\n",
       "    </tr>\n",
       "  </thead>\n",
       "  <tbody>\n",
       "    <tr>\n",
       "      <th>0</th>\n",
       "      <td>101</td>\n",
       "      <td>Steve</td>\n",
       "      <td>Laptop</td>\n",
       "      <td>2018-06-12</td>\n",
       "      <td>2</td>\n",
       "      <td>800.0</td>\n",
       "      <td>6293730802</td>\n",
       "    </tr>\n",
       "    <tr>\n",
       "      <th>1</th>\n",
       "      <td>102</td>\n",
       "      <td>Josh</td>\n",
       "      <td>Books</td>\n",
       "      <td>2019-02-10</td>\n",
       "      <td>10</td>\n",
       "      <td>12.0</td>\n",
       "      <td>8367489124</td>\n",
       "    </tr>\n",
       "    <tr>\n",
       "      <th>2</th>\n",
       "      <td>103</td>\n",
       "      <td>Stacy</td>\n",
       "      <td>Trousers</td>\n",
       "      <td>2019-12-25</td>\n",
       "      <td>5</td>\n",
       "      <td>50.0</td>\n",
       "      <td>8976123645</td>\n",
       "    </tr>\n",
       "    <tr>\n",
       "      <th>3</th>\n",
       "      <td>104</td>\n",
       "      <td>Nancy</td>\n",
       "      <td>T-shirt</td>\n",
       "      <td>2018-07-14</td>\n",
       "      <td>7</td>\n",
       "      <td>30.0</td>\n",
       "      <td>7368145099</td>\n",
       "    </tr>\n",
       "    <tr>\n",
       "      <th>4</th>\n",
       "      <td>105</td>\n",
       "      <td>Maria</td>\n",
       "      <td>Headphones</td>\n",
       "      <td>2019-05-30</td>\n",
       "      <td>6</td>\n",
       "      <td>48.0</td>\n",
       "      <td>8865316698</td>\n",
       "    </tr>\n",
       "    <tr>\n",
       "      <th>5</th>\n",
       "      <td>106</td>\n",
       "      <td>Danny</td>\n",
       "      <td>Smart TV</td>\n",
       "      <td>2018-08-20</td>\n",
       "      <td>10</td>\n",
       "      <td>300.0</td>\n",
       "      <td>7720130449</td>\n",
       "    </tr>\n",
       "  </tbody>\n",
       "</table>\n",
       "</div>"
      ],
      "text/plain": [
       "   order_id customer_name product_name date_ordered  quantity  unit_price  \\\n",
       "0       101         Steve       Laptop   2018-06-12         2       800.0   \n",
       "1       102          Josh        Books   2019-02-10        10        12.0   \n",
       "2       103         Stacy     Trousers   2019-12-25         5        50.0   \n",
       "3       104         Nancy      T-shirt   2018-07-14         7        30.0   \n",
       "4       105         Maria   Headphones   2019-05-30         6        48.0   \n",
       "5       106         Danny     Smart TV   2018-08-20        10       300.0   \n",
       "\n",
       "  phone_number  \n",
       "0   6293730802  \n",
       "1   8367489124  \n",
       "2   8976123645  \n",
       "3   7368145099  \n",
       "4   8865316698  \n",
       "5   7720130449  "
      ]
     },
     "metadata": {},
     "output_type": "display_data"
    }
   ],
   "source": [
    "from_db = []\n",
    "\n",
    "for result in results:\n",
    "    result = list(result)\n",
    "    from_db.append(result)\n",
    "column = ['order_id', 'customer_name', 'product_name', 'date_ordered', 'quantity', 'unit_price', 'phone_number']\n",
    "df = pd.DataFrame(from_db, columns = column)\n",
    "\n",
    "display(df)"
   ]
  },
  {
   "cell_type": "code",
   "execution_count": null,
   "id": "e3a0ae92",
   "metadata": {},
   "outputs": [],
   "source": []
  }
 ],
 "metadata": {
  "hide_input": false,
  "kernelspec": {
   "display_name": "Python 3 (ipykernel)",
   "language": "python",
   "name": "python3"
  },
  "language_info": {
   "codemirror_mode": {
    "name": "ipython",
    "version": 3
   },
   "file_extension": ".py",
   "mimetype": "text/x-python",
   "name": "python",
   "nbconvert_exporter": "python",
   "pygments_lexer": "ipython3",
   "version": "3.9.12"
  },
  "toc": {
   "base_numbering": 1,
   "nav_menu": {},
   "number_sections": true,
   "sideBar": true,
   "skip_h1_title": false,
   "title_cell": "Table of Contents",
   "title_sidebar": "Contents",
   "toc_cell": false,
   "toc_position": {},
   "toc_section_display": true,
   "toc_window_display": false
  },
  "varInspector": {
   "cols": {
    "lenName": 16,
    "lenType": 16,
    "lenVar": 40
   },
   "kernels_config": {
    "python": {
     "delete_cmd_postfix": "",
     "delete_cmd_prefix": "del ",
     "library": "var_list.py",
     "varRefreshCmd": "print(var_dic_list())"
    },
    "r": {
     "delete_cmd_postfix": ") ",
     "delete_cmd_prefix": "rm(",
     "library": "var_list.r",
     "varRefreshCmd": "cat(var_dic_list()) "
    }
   },
   "types_to_exclude": [
    "module",
    "function",
    "builtin_function_or_method",
    "instance",
    "_Feature"
   ],
   "window_display": false
  }
 },
 "nbformat": 4,
 "nbformat_minor": 5
}
